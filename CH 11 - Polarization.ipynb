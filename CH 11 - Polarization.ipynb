{
 "cells": [
  {
   "cell_type": "markdown",
   "metadata": {},
   "source": [
    "# CH 11 - Polarization"
   ]
  },
  {
   "cell_type": "code",
   "execution_count": 40,
   "metadata": {},
   "outputs": [],
   "source": [
    "import numpy as np\n",
    "from numpy import sin, cos, pi, tan, exp, sqrt"
   ]
  },
  {
   "cell_type": "markdown",
   "metadata": {},
   "source": [
    "## Jones Calculus: Polarizers\n",
    "- **Example 11.1**: Use Jones calculus to calculate the mergent beam from a series of optical polarizers."
   ]
  },
  {
   "cell_type": "code",
   "execution_count": 7,
   "metadata": {},
   "outputs": [],
   "source": [
    "# incident beam\n",
    "Ei = np.array([[1],[0]])\n",
    "\n",
    "# polarizer types; linear polarizer at angle theta to the x-axis\n",
    "theta = pi/4\n",
    "Lphi = np.array([       \n",
    "    [cos(theta)**2, cos(theta)*sin(theta)],\n",
    "    [cos(theta)*sin(theta), sin(theta)**2]\n",
    "])"
   ]
  },
  {
   "cell_type": "code",
   "execution_count": 12,
   "metadata": {},
   "outputs": [
    {
     "data": {
      "text/plain": [
       "array([[0.5],\n",
       "       [0.5]])"
      ]
     },
     "execution_count": 12,
     "metadata": {},
     "output_type": "execute_result"
    }
   ],
   "source": [
    "# emergent beam from polarizers\n",
    "Eo = np.dot(Lphi, Ei)\n",
    "Eo"
   ]
  },
  {
   "cell_type": "markdown",
   "metadata": {},
   "source": [
    "## Jones Calculus: Phase Retarders\n",
    "- **Example 11.2**: Convert a linearly polarized beam into a circularly polarized beam using a quarter-wave plate."
   ]
  },
  {
   "cell_type": "code",
   "execution_count": 43,
   "metadata": {},
   "outputs": [
    {
     "data": {
      "text/plain": [
       "array([[7.07106781e-01+5.55111512e-17j],\n",
       "       [5.55111512e-17+7.07106781e-01j]])"
      ]
     },
     "execution_count": 43,
     "metadata": {},
     "output_type": "execute_result"
    }
   ],
   "source": [
    "# incident beam\n",
    "Ei = np.array([[1], [0]])\n",
    "\n",
    "# polarizer types\n",
    "phi = pi/4\n",
    "QWP = exp(1j * pi/4) * np.array([\n",
    "    [cos(phi)**2 - 1j*sin(phi)**2, cos(phi)*sin(phi)*(1+1j)],\n",
    "    [cos(phi)*sin(phi)*(1+1j), -1j*cos(phi)**2 + sin(phi)**2]\n",
    "])\n",
    "      \n",
    "# emergent beam\n",
    "Eo = np.dot(QWP, Ei)\n",
    "Eo"
   ]
  },
  {
   "cell_type": "markdown",
   "metadata": {},
   "source": [
    "## Mueller Calculus\n",
    "- **Example 11.3**: Apply a linear polarizer to a Stokes vector to convert from X polarization to Y polarization."
   ]
  },
  {
   "cell_type": "code",
   "execution_count": 47,
   "metadata": {},
   "outputs": [
    {
     "data": {
      "text/plain": [
       "array([[5.000000e-01],\n",
       "       [3.061617e-17],\n",
       "       [5.000000e-01],\n",
       "       [0.000000e+00]])"
      ]
     },
     "execution_count": 47,
     "metadata": {},
     "output_type": "execute_result"
    }
   ],
   "source": [
    "# incident beam\n",
    "Si = np.array([[1],\n",
    "               [1],\n",
    "               [0],\n",
    "               [0]])\n",
    "\n",
    "# polarizer types\n",
    "phi = pi/4\n",
    "A = cos(2*phi)\n",
    "B= sin(2*phi)\n",
    "\n",
    "LP = 0.5 * np.array([\n",
    "    [1, A,    B,    0],\n",
    "    [A, A**2, A*B,  0],\n",
    "    [B, A*B,  B**2, 0],\n",
    "    [0, 0,    0,    0]\n",
    "])\n",
    "\n",
    "# emergent beam\n",
    "S = np.dot(LP, Si)\n",
    "S"
   ]
  }
 ],
 "metadata": {
  "kernelspec": {
   "display_name": "Python 3",
   "language": "python",
   "name": "python3"
  },
  "language_info": {
   "codemirror_mode": {
    "name": "ipython",
    "version": 3
   },
   "file_extension": ".py",
   "mimetype": "text/x-python",
   "name": "python",
   "nbconvert_exporter": "python",
   "pygments_lexer": "ipython3",
   "version": "3.6.8"
  }
 },
 "nbformat": 4,
 "nbformat_minor": 2
}
