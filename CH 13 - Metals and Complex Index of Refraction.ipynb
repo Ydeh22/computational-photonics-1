{
 "cells": [
  {
   "cell_type": "markdown",
   "metadata": {},
   "source": [
    "# CH 13 - Metals and Complex Index of Refraction"
   ]
  },
  {
   "cell_type": "code",
   "execution_count": 13,
   "metadata": {},
   "outputs": [],
   "source": [
    "import numpy as np\n",
    "from numpy import sin, cos, tan, e, pi, sqrt, sinh, cosh\n",
    "import math\n",
    "import matplotlib.pyplot as plt"
   ]
  },
  {
   "attachments": {
    "image.png": {
     "image/png": "[encoded data removed]"
    }
   },
   "cell_type": "markdown",
   "metadata": {},
   "source": [
    "## Reflectivity of Metal Films\n",
    "- **Example 13.1**: The reflectance curce of aluminum as a function of wavelength.\n",
    "![image.png](attachment:image.png)"
   ]
  },
  {
   "cell_type": "code",
   "execution_count": 3,
   "metadata": {},
   "outputs": [],
   "source": [
    "# complex index of refraction for aluminum\n",
    "\n",
    "IOR = np.array([\n",
    "[300, 0.2868, 3.689375400],\n",
    "[400, 0.5062, 4.938125500],\n",
    "[500, 0.789,  6.15600],\n",
    "[600, 1.22,   7.31700],\n",
    "[700, 1.91,   8.39800],\n",
    "[800, 2.74,   8.31900],\n",
    "[900, 1.86,   8.44],\n",
    "])"
   ]
  },
  {
   "cell_type": "code",
   "execution_count": 6,
   "metadata": {},
   "outputs": [],
   "source": [
    "# calculate reflectivity\n",
    "\n",
    "w = 50  # thickness of Al layer\n",
    "\n",
    "nA = 1.0  # IOR air\n",
    "nS = 1.5  # IOR BK7\n",
    "\n",
    "n = IOR[:,1] - 1j*IOR[:,2]\n",
    "l = IOR[:,0]\n",
    "k = 2*pi*n/l\n",
    "\n",
    "A = cos(k*w)\n",
    "B = 1j * sin(k*w) / n\n",
    "C = 1j * n * sin(k*w)\n",
    "D = cos(k*w)\n",
    "\n",
    "beta  = A + B * nS\n",
    "gamma = C + D * nS\n",
    "\n",
    "r = (nA * beta - gamma) / (nA * beta + gamma)\n",
    "R = r * np.conj(r)"
   ]
  },
  {
   "cell_type": "code",
   "execution_count": 12,
   "metadata": {},
   "outputs": [
    {
     "data": {
      "image/png": "[encoded data removed]",
      "text/plain": [
       "<Figure size 432x288 with 1 Axes>"
      ]
     },
     "metadata": {
      "needs_background": "light"
     },
     "output_type": "display_data"
    }
   ],
   "source": [
    "plt.plot(l, R, '-o');\n",
    "plt.axis([300, 1000, 0.85, 0.95]);\n",
    "plt.xlabel('Wavelength (nm)');\n",
    "plt.ylabel('Reflectance');"
   ]
  },
  {
   "cell_type": "markdown",
   "metadata": {},
   "source": [
    "## Impedance Matching\n",
    "- **Example 13.2**: Calculate the maximum potential transmittance."
   ]
  },
  {
   "cell_type": "code",
   "execution_count": 71,
   "metadata": {},
   "outputs": [
    {
     "name": "stdout",
     "output_type": "stream",
     "text": [
      "Impedance = 1.156676651212135 + 4.0107495551526755i\n",
      "PsiMax = 93.44583510429258\n"
     ]
    },
    {
     "data": {
      "text/plain": [
       "((1.156676651212135+4.0107495551526755j), 93.44583510429258)"
      ]
     },
     "execution_count": 71,
     "metadata": {},
     "output_type": "execute_result"
    }
   ],
   "source": [
    "def getPsiMax(n, k, t, l):\n",
    "    \n",
    "    # calculate the impedance of the absorbing film\n",
    "    alpha = 2*pi*n*t/l\n",
    "    beta = 2*pi*k*t/l\n",
    "    \n",
    "    # calculations for psiMax and impedance\n",
    "    P1 = sin(alpha)**2 * cosh(beta)**2 + cos(alpha)**2 * sinh(beta)**2\n",
    "    P2 = cos(alpha)**2 * cosh(beta)**2 + sin(alpha)**2 * sinh(beta)**2\n",
    "    P3 = n*sinh(beta)*cosh(beta) + k*cos(alpha)*sin(alpha)\n",
    "    P4 = n*sinh(beta)*cosh(beta) - k*cos(alpha)*sin(alpha)\n",
    "    P5 = n**2 + k**2\n",
    "    P6 = n**2 - k**2\n",
    "    \n",
    "    # impedance\n",
    "    X = sqrt(P5*P3/P4 - n**2 * k**2 * P1**2 / P4**2)\n",
    "    Z = n*k*P1/P4\n",
    "    Y = X + 1j*Z   # impedance of film\n",
    "    \n",
    "    # calculate maximum potential transmittance\n",
    "    psiMax = (\n",
    "        (P6 - 2*n*k*Z / X) / P5*P1\n",
    "        + P2\n",
    "        + P3/X\n",
    "        + (X**2 + Z**2) / X / P5*P4\n",
    "    )**-1\n",
    "    \n",
    "    print('Impedance = {} + {}i'.format(X, Z))\n",
    "    print('PsiMax = {}'.format(psiMax*100))\n",
    "    return X+Z*1j, psiMax*100\n",
    "    \n",
    "getPsiMax(0.055, 3.32, 45e-9, 550e-9)"
   ]
  },
  {
   "cell_type": "markdown",
   "metadata": {},
   "source": [
    "- **Example 13.3**: Calculate the bandpass profile for an impedance-matched metal film. "
   ]
  },
  {
   "cell_type": "code",
   "execution_count": 34,
   "metadata": {},
   "outputs": [],
   "source": [
    "def getTM(n, w, l):\n",
    "    # n - complex index of refraction\n",
    "    # w - optical layer thickness\n",
    "    # l - scanned wavelength\n",
    "    \n",
    "    k = 2*pi*n/l\n",
    "    M1 = cos(k*w)\n",
    "    M2 = 1j * sin(k*w) / n\n",
    "    M3 = 1j * n * sin(k*w)\n",
    "    M4 = cos(k*w)\n",
    "    M = np.array([[M1, M2],\n",
    "                 [M3, M4]])\n",
    "    \n",
    "    return M"
   ]
  },
  {
   "cell_type": "code",
   "execution_count": 35,
   "metadata": {},
   "outputs": [],
   "source": [
    "# initial conditions\n",
    "\n",
    "nA = 1.52\n",
    "nS = 1.52\n",
    "\n",
    "lc = 550e-9   # central wavelength\n",
    "metal_layer_type = 'Ag'\n",
    "metal_layer_thick = 45"
   ]
  },
  {
   "cell_type": "code",
   "execution_count": 36,
   "metadata": {},
   "outputs": [],
   "source": [
    "# dielectric layer definitions\n",
    "\n",
    "nP = 1.35\n",
    "nL = 1.35\n",
    "nH = 2.32\n",
    "\n",
    "wP = 1.81 * lc/4/nP\n",
    "wL = 1*lc/4/nL\n",
    "wH = 1*lc/4/nH"
   ]
  },
  {
   "cell_type": "code",
   "execution_count": 37,
   "metadata": {},
   "outputs": [],
   "source": [
    "# absorbing layer definitions\n",
    "# for Ag metal layer\n",
    "\n",
    "nM = 0.055 - 1j * 3.32\n",
    "wM = metal_layer_thick * 1e-9"
   ]
  },
  {
   "cell_type": "code",
   "execution_count": 54,
   "metadata": {
    "collapsed": true
   },
   "outputs": [
    {
     "name": "stderr",
     "output_type": "stream",
     "text": [
      "/usr/local/lib/python3.6/dist-packages/ipykernel_launcher.py:7: RuntimeWarning: overflow encountered in cos\n",
      "  import sys\n",
      "/usr/local/lib/python3.6/dist-packages/ipykernel_launcher.py:8: RuntimeWarning: overflow encountered in sin\n",
      "  \n",
      "/usr/local/lib/python3.6/dist-packages/ipykernel_launcher.py:8: RuntimeWarning: invalid value encountered in cdouble_scalars\n",
      "  \n",
      "/usr/local/lib/python3.6/dist-packages/ipykernel_launcher.py:9: RuntimeWarning: overflow encountered in sin\n",
      "  if __name__ == '__main__':\n",
      "/usr/local/lib/python3.6/dist-packages/ipykernel_launcher.py:9: RuntimeWarning: invalid value encountered in cdouble_scalars\n",
      "  if __name__ == '__main__':\n",
      "/usr/local/lib/python3.6/dist-packages/ipykernel_launcher.py:10: RuntimeWarning: overflow encountered in cos\n",
      "  # Remove the CWD from sys.path while we load stuff.\n",
      "/usr/local/lib/python3.6/dist-packages/ipykernel_launcher.py:23: RuntimeWarning: overflow encountered in multiply\n",
      "/usr/local/lib/python3.6/dist-packages/ipykernel_launcher.py:23: RuntimeWarning: invalid value encountered in multiply\n",
      "/usr/local/lib/python3.6/dist-packages/ipykernel_launcher.py:24: RuntimeWarning: overflow encountered in multiply\n",
      "/usr/local/lib/python3.6/dist-packages/ipykernel_launcher.py:24: RuntimeWarning: invalid value encountered in multiply\n",
      "/usr/local/lib/python3.6/dist-packages/ipykernel_launcher.py:25: RuntimeWarning: overflow encountered in multiply\n",
      "/usr/local/lib/python3.6/dist-packages/ipykernel_launcher.py:25: RuntimeWarning: invalid value encountered in multiply\n"
     ]
    }
   ],
   "source": [
    "# scan wavelengths\n",
    "\n",
    "myData = np.zeros((1000, 5))\n",
    "for count in range(1, 1001):\n",
    "    \n",
    "    # get layer transfer matrix\n",
    "    l = count * 1e-9\n",
    "    P = getTM(nP, wP, l)\n",
    "    L = getTM(nL, wL, l)\n",
    "    H = getTM(nH, wH, l)\n",
    "    MM = getTM(nM, wM, l)\n",
    "    \n",
    "    # sequenced layers\n",
    "    M = L.dot(H).dot(L).dot(H).dot(P).dot(MM).dot(P).dot(H).dot(L).dot(H).dot(L)\n",
    "    \n",
    "    # calculate R, T, A, psi for system\n",
    "    NS = np.array([[1],[nS]])\n",
    "    N = np.dot(M, NS)\n",
    "    B = N[0]\n",
    "    C = N[1]\n",
    "    \n",
    "    R = (nA*B-C) / (nA*B+C) * np.conj((nA*B-C) / (nA*B+C))\n",
    "    T = 4*nA*nS.real / ((nA*B+C) * np.conj(nA*B+C))\n",
    "    A = 4*nA*(B*np.conj(C)-nS).real / ((nA*B+C) * np.conj(nA*B+C))\n",
    "    psi = nS.real / (B*np.conj(C)).real\n",
    "    \n",
    "    # collect data in array\n",
    "    myData[count-1, 0] = l\n",
    "    myData[count-1, 1] = R.real\n",
    "    myData[count-1, 2] = T.real\n",
    "    myData[count-1, 3] = A.real\n",
    "    myData[count-1, 4] = psi.real"
   ]
  },
  {
   "cell_type": "code",
   "execution_count": 72,
   "metadata": {},
   "outputs": [
    {
     "name": "stdout",
     "output_type": "stream",
     "text": [
      "Impedance = 1.1566766512121365 + 4.010749555152674i\n",
      "PsiMax = 93.44583510429227\n",
      "Psi at 550.0 is 93.29290163350812\n",
      "PsiMax at 550.0 is (115.66766512121364+401.0749555152674j)\n",
      "R = 0.02865131088573348, T = 0.9061993770537436, A = 0.0651493120605233\n"
     ]
    }
   ],
   "source": [
    "# calculate PsiMax for absorbing layer, show with psi, R, T, A\n",
    "\n",
    "n = nM.real\n",
    "k = abs(nM.imag)\n",
    "l_nm = int(lc * 1e9)\n",
    "psil_nm = myData[l_nm-1, 4] *  100\n",
    "psiMax, Y = getPsiMax(n, k, wM, lc)\n",
    "R_l_nm = myData[l_nm-1, 1]\n",
    "T_l_nm = myData[l_nm-1, 2]\n",
    "A_l_nm = myData[l_nm-1, 3]\n",
    "\n",
    "print('Psi at {} is {}'.format(lc*1e9, psil_nm))\n",
    "print('PsiMax at {} is {}'.format(lc*1e9, psiMax*100))\n",
    "print('R = {}, T = {}, A = {}'.format(R_l_nm, T_l_nm, A_l_nm))"
   ]
  },
  {
   "cell_type": "code",
   "execution_count": 74,
   "metadata": {},
   "outputs": [
    {
     "data": {
      "image/png": "[encoded data removed]",
      "text/plain": [
       "<Figure size 432x288 with 1 Axes>"
      ]
     },
     "metadata": {
      "needs_background": "light"
     },
     "output_type": "display_data"
    },
    {
     "data": {
      "image/png": "[encoded data removed]",
      "text/plain": [
       "<Figure size 432x288 with 1 Axes>"
      ]
     },
     "metadata": {
      "needs_background": "light"
     },
     "output_type": "display_data"
    },
    {
     "data": {
      "image/png": "[encoded data removed]",
      "text/plain": [
       "<Figure size 432x288 with 1 Axes>"
      ]
     },
     "metadata": {
      "needs_background": "light"
     },
     "output_type": "display_data"
    }
   ],
   "source": [
    "# plot\n",
    "\n",
    "# -- transmission\n",
    "plt.figure();\n",
    "plt.plot(myData[:,0]*1e-9, myData[:,2]);\n",
    "\n",
    "# -- absorbance\n",
    "plt.figure();\n",
    "plt.plot(myData[:,0]*1e-9, myData[:,3]);\n",
    "\n",
    "# -- transmission and absorbance\n",
    "plt.figure();\n",
    "plt.plot(myData[:,0]*1e-9, myData[:,2]);\n",
    "plt.plot(myData[:,0]*1e-9, myData[:,3]);"
   ]
  }
 ],
 "metadata": {
  "kernelspec": {
   "display_name": "Python 3",
   "language": "python",
   "name": "python3"
  },
  "language_info": {
   "codemirror_mode": {
    "name": "ipython",
    "version": 3
   },
   "file_extension": ".py",
   "mimetype": "text/x-python",
   "name": "python",
   "nbconvert_exporter": "python",
   "pygments_lexer": "ipython3",
   "version": "3.6.8"
  }
 },
 "nbformat": 4,
 "nbformat_minor": 2
}
