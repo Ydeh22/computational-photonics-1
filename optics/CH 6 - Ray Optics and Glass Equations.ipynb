{
 "cells": [
  {
   "cell_type": "markdown",
   "metadata": {},
   "source": [
    "# Ray Optics and Glass Equations"
   ]
  },
  {
   "cell_type": "code",
   "execution_count": 2,
   "metadata": {},
   "outputs": [],
   "source": [
    "import numpy as np\n",
    "from numpy import sin, cos, pi, sqrt\n",
    "\n",
    "import matplotlib.pyplot as plt\n",
    "\n",
    "# enables seeing multiple outputs\n",
    "from IPython.core.interactiveshell import InteractiveShell\n",
    "InteractiveShell.ast_node_interactivity = \"all\""
   ]
  },
  {
   "cell_type": "markdown",
   "metadata": {},
   "source": [
    "## Lensmaker's equation and spot size"
   ]
  },
  {
   "cell_type": "code",
   "execution_count": 3,
   "metadata": {},
   "outputs": [],
   "source": [
    "# parameters (in meters)\n",
    "\n",
    "R1 = 0.1           # radii\n",
    "R2 = -0.1\n",
    "n = 1.5            # refractive index\n",
    "lambda_ = 550e-9   # wavelength of light used\n",
    "CA = 0.05          # clear aperture \n",
    "t = 0.01           # lens thickness"
   ]
  },
  {
   "cell_type": "code",
   "execution_count": 4,
   "metadata": {},
   "outputs": [],
   "source": [
    "# equations\n",
    "\n",
    "phi = (n - 1) * (1/R1 - 1/R2 + (n-1)*t/(n*R1*R2))\n",
    "f = 1/phi\n",
    "f_num = f/CA\n",
    "S = 2.44 * lambda_ * f_num"
   ]
  },
  {
   "cell_type": "code",
   "execution_count": 5,
   "metadata": {},
   "outputs": [
    {
     "name": "stdout",
     "output_type": "stream",
     "text": [
      "Optical power: 9.83 diopters\n",
      "Focal length: 0.10 m\n",
      "f-number: 2.03 m\n",
      "Spot diameter: 2.73 um\n"
     ]
    }
   ],
   "source": [
    "print('Optical power: {0:1.2f} diopters'.format(phi))\n",
    "print('Focal length: {0:1.2f} m'.format(f))\n",
    "print('f-number: {0:1.2f} m'.format(f_num))\n",
    "print('Spot diameter: {0:1.2f} um'.format(S*1e6))"
   ]
  },
  {
   "cell_type": "markdown",
   "metadata": {},
   "source": [
    "## Matrix method for ray tracing\n",
    "- **Example 6.2**: Find the focal length of a spherical lens with a radius of 2cm and an refractive index of 1.3."
   ]
  },
  {
   "cell_type": "code",
   "execution_count": 6,
   "metadata": {},
   "outputs": [],
   "source": [
    "# parameters\n",
    "\n",
    "n_glass = 1.3\n",
    "n_air = 1\n",
    "lens_diameter = 4\n",
    "lens_roc = lens_diameter/2"
   ]
  },
  {
   "cell_type": "code",
   "execution_count": 7,
   "metadata": {},
   "outputs": [],
   "source": [
    "# translation and refraction matrices\n",
    "\n",
    "P1 = (n_air - n_glass) / (-lens_roc)    # 1st surface lens power\n",
    "P2 = (n_glass - n_air) / (lens_roc)     # 2nd surface lens power\n",
    "L_n = lens_diameter / n_glass"
   ]
  },
  {
   "cell_type": "code",
   "execution_count": 8,
   "metadata": {},
   "outputs": [],
   "source": [
    "test = 10\n",
    "f = 0\n",
    "\n",
    "while abs(test) > 0.0005:   # force M[1,1] to 0, as at the focal point the height is 0\n",
    "    f +=  0.0001\n",
    "\n",
    "    # translation matrices\n",
    "    TM1 = np.array([[1, 0], \n",
    "                    [f, 1]], dtype=np.float64)\n",
    "    TM2 = np.array([[1, 0], \n",
    "                    [L_n, 1]], dtype=np.float64)\n",
    "\n",
    "    # refraction matrices\n",
    "    RM1 = np.array([[1, -P1], \n",
    "                    [0, 1]])\n",
    "    RM2 = np.array([[1, -P2], \n",
    "                    [0, 1]])\n",
    "\n",
    "    # calculate ray-transfer matrix\n",
    "    Mlens = RM2.dot(TM2).dot(RM1)\n",
    "    M = TM1.dot(Mlens)\n",
    "\n",
    "    A = M[0,0]\n",
    "    B = M[0,1]\n",
    "    C = M[1,0]\n",
    "    D = M[1,1]\n",
    "\n",
    "    test = D"
   ]
  },
  {
   "cell_type": "code",
   "execution_count": 9,
   "metadata": {},
   "outputs": [
    {
     "name": "stdout",
     "output_type": "stream",
     "text": [
      "[[ 0.53846154 -0.23076923]\n",
      " [ 3.07692308  0.53846154]] \n",
      "\n",
      "[[ 5.38461538e-01 -2.30769231e-01]\n",
      " [ 4.33218462e+00  4.92307692e-04]] \n",
      "\n",
      "2.331200000000495\n"
     ]
    }
   ],
   "source": [
    "print(Mlens, '\\n')\n",
    "print(M, '\\n')\n",
    "print(f)"
   ]
  },
  {
   "cell_type": "markdown",
   "metadata": {},
   "source": [
    "## Ray tracing through multiple elements\n",
    "- **Example 6.3**: Develop the ray-transfer matrix for a two-element inverting telescope."
   ]
  },
  {
   "cell_type": "code",
   "execution_count": 10,
   "metadata": {},
   "outputs": [],
   "source": [
    "# parameters\n",
    "\n",
    "fe = 1\n",
    "fo = 100\n",
    "y0 = 1\n",
    "theta0 = .0"
   ]
  },
  {
   "cell_type": "code",
   "execution_count": 11,
   "metadata": {},
   "outputs": [],
   "source": [
    "# configure translation and refraction matrices\n",
    "\n",
    "X = fo + fe\n",
    "Po = 1/fo\n",
    "Pe = 1/fe\n",
    "TM1 = np.array([[1, 0],\n",
    "                [X, 1]])\n",
    "RM1 = np.array([[1, -Pe],\n",
    "                [0, 1]])\n",
    "RM2 = np.array([[1, -Po],\n",
    "                [0, 1]])"
   ]
  },
  {
   "cell_type": "code",
   "execution_count": 12,
   "metadata": {},
   "outputs": [],
   "source": [
    "# calaulate ray-transfer matrix\n",
    "\n",
    "M = RM2.dot(TM1).dot(RM1)\n",
    "\n",
    "A = M[0,0]\n",
    "B = M[0,1]\n",
    "C = M[1,0]\n",
    "D = M[1,1]"
   ]
  },
  {
   "cell_type": "code",
   "execution_count": 13,
   "metadata": {},
   "outputs": [],
   "source": [
    "# exit ray\n",
    "initial_ray = np.array([theta0, y0])\n",
    "N = initial_ray.dot(M)"
   ]
  },
  {
   "cell_type": "code",
   "execution_count": 18,
   "metadata": {},
   "outputs": [
    {
     "name": "stdout",
     "output_type": "stream",
     "text": [
      "Ray-transfer matrix:\n",
      " [[-1.00000000e-02  2.08166817e-17]\n",
      " [ 1.01000000e+02 -1.00000000e+02]]\n",
      "\n",
      "Final ray:\n",
      " [ 101. -100.]\n"
     ]
    }
   ],
   "source": [
    "print('Ray-transfer matrix:\\n {}'.format(M))\n",
    "print()\n",
    "print('Final ray:\\n {}'.format(N))"
   ]
  },
  {
   "cell_type": "code",
   "execution_count": null,
   "metadata": {},
   "outputs": [],
   "source": []
  }
 ],
 "metadata": {
  "kernelspec": {
   "display_name": "Python 3",
   "language": "python",
   "name": "python3"
  },
  "language_info": {
   "codemirror_mode": {
    "name": "ipython",
    "version": 3
   },
   "file_extension": ".py",
   "mimetype": "text/x-python",
   "name": "python",
   "nbconvert_exporter": "python",
   "pygments_lexer": "ipython3",
   "version": "3.6.8"
  }
 },
 "nbformat": 4,
 "nbformat_minor": 2
}
