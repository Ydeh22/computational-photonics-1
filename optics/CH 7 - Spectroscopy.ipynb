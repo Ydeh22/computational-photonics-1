{
 "cells": [
  {
   "cell_type": "markdown",
   "metadata": {},
   "source": [
    "# Spectrometers"
   ]
  },
  {
   "cell_type": "code",
   "execution_count": 16,
   "metadata": {},
   "outputs": [],
   "source": [
    "import numpy as np\n",
    "from numpy import sin, cos, tan, pi, sqrt, arcsin\n",
    "\n",
    "import matplotlib.pyplot as plt\n",
    "\n",
    "from IPython.core.interactiveshell import InteractiveShell\n",
    "InteractiveShell.ast_node_interactivity = 'all'"
   ]
  },
  {
   "cell_type": "markdown",
   "metadata": {},
   "source": [
    "## Dispersion in a material\n",
    "- **Example 7.1**: Calculate the dispersion angle using the index of refraction for two different wavelengths."
   ]
  },
  {
   "cell_type": "code",
   "execution_count": 3,
   "metadata": {},
   "outputs": [],
   "source": [
    "# IOR and incident angle\n",
    "\n",
    "nB = 1.5308\n",
    "nR = 1.5163\n",
    "\n",
    "theta0_d = -45     # in degrees\n",
    "theta0 = theta0_d * pi / 180"
   ]
  },
  {
   "cell_type": "code",
   "execution_count": 7,
   "metadata": {},
   "outputs": [],
   "source": [
    "# dispersion angle\n",
    "\n",
    "DA_p = theta0*(1/nB - 1/nR)\n",
    "DA_a = arcsin(sin(theta0) / nB) - arcsin(sin(theta0) / nR)"
   ]
  },
  {
   "cell_type": "code",
   "execution_count": 9,
   "metadata": {},
   "outputs": [
    {
     "name": "stdout",
     "output_type": "stream",
     "text": [
      "Dispersion angle p: 4.906302203824162 mrads\n",
      "Dispersion angle p: 16.866624557691544 minutes\n",
      "Dispersion angle a: 4.986895624710996 mrads\n"
     ]
    }
   ],
   "source": [
    "# output\n",
    "\n",
    "print('Dispersion angle p: {} mrads'.format(DA_p*1000))\n",
    "print('Dispersion angle p: {} minutes'.format(DA_p*180/pi*60))\n",
    "print('Dispersion angle a: {} mrads'.format(DA_a*1000))"
   ]
  },
  {
   "cell_type": "markdown",
   "metadata": {},
   "source": [
    "- **Abbe numbers**: Calculate the dispsppsppspsps"
   ]
  },
  {
   "cell_type": "markdown",
   "metadata": {},
   "source": [
    "## Prisms\n",
    "- **Example 7.2**: Show the angular separation of the wavelengths 400, 500, 600 and 700 nm using a prism calculator."
   ]
  },
  {
   "cell_type": "code",
   "execution_count": 33,
   "metadata": {},
   "outputs": [],
   "source": [
    "# wavelengths\n",
    "\n",
    "n = np.array([1.5308, 1.5214, 1.5163, 1.5131])\n",
    "l = np.array([400, 500, 600, 700])"
   ]
  },
  {
   "cell_type": "code",
   "execution_count": 56,
   "metadata": {},
   "outputs": [],
   "source": [
    "# incident angles\n",
    "\n",
    "I_degrees = 10\n",
    "I = I_degrees * pi/180"
   ]
  },
  {
   "cell_type": "code",
   "execution_count": 57,
   "metadata": {},
   "outputs": [],
   "source": [
    "# prism\n",
    "\n",
    "A_degrees = 25\n",
    "A = A_degrees * pi/180"
   ]
  },
  {
   "cell_type": "code",
   "execution_count": 65,
   "metadata": {},
   "outputs": [],
   "source": [
    "# dispersion angle\n",
    "\n",
    "D = I - A + arcsin(sqrt(n**2 - sin(I)**2) * sin(A) - cos(A)*sin(I))\n",
    "D_degs = (D-D[0]) *  180 / pi * 60"
   ]
  },
  {
   "cell_type": "code",
   "execution_count": 69,
   "metadata": {},
   "outputs": [
    {
     "data": {
      "image/png": "[encoded data removed]",
      "text/plain": [
       "<Figure size 432x288 with 1 Axes>"
      ]
     },
     "metadata": {
      "needs_background": "light"
     },
     "output_type": "display_data"
    }
   ],
   "source": [
    "plt.figure();\n",
    "plt.plot(l, D_degs, '-o');\n",
    "plt.axis([400, 800, -30, 0]);\n",
    "plt.xlabel('Wavelength (nm)');\n",
    "plt.ylabel('Deviation Angle (min)');"
   ]
  },
  {
   "cell_type": "markdown",
   "metadata": {},
   "source": [
    "## Gratings\n",
    "- **Example 7.3**: Calculate the emergent angles of the orders m = 0, 1, 2, 3 using a reflection grating."
   ]
  },
  {
   "cell_type": "code",
   "execution_count": 5,
   "metadata": {},
   "outputs": [],
   "source": [
    "# grating parameters\n",
    "\n",
    "lambda_nm = 550    # incident wavelength (nm)\n",
    "alpha_deg = 10     # incident angle (deg)\n",
    "lpmm = 500         # lines per mm in grating\n",
    "\n",
    "# convert to m and radians\n",
    "d = 1e-3 / lpmm\n",
    "lambda_ = lambda_nm * 1e-9\n",
    "alpha = alpha_deg * pi/180"
   ]
  },
  {
   "cell_type": "code",
   "execution_count": 6,
   "metadata": {},
   "outputs": [
    {
     "data": {
      "text/plain": [
       "array([-10.        ,   5.81701973,  22.10788838,  40.64360119])"
      ]
     },
     "execution_count": 6,
     "metadata": {},
     "output_type": "execute_result"
    }
   ],
   "source": [
    "# emergent angles for orders\n",
    "\n",
    "m = np.array([0, 1, 2, 3])\n",
    "beta = arcsin(m * lambda_/d - sin(alpha)) * 180/pi   # in deg\n",
    "beta"
   ]
  },
  {
   "cell_type": "markdown",
   "metadata": {},
   "source": [
    "## Blazed gratings\n",
    "- **Example 7.4**: Extend the calculation in example 7.3 to determine the m = 1 blaze angle."
   ]
  },
  {
   "cell_type": "code",
   "execution_count": 8,
   "metadata": {},
   "outputs": [],
   "source": [
    "# parameters\n",
    "\n",
    "lambda_ = 550e-9  # wavelength (nm)\n",
    "m = 1\n",
    "\n",
    "lpmm = 500\n",
    "d = 1e-3 / lpmm\n",
    "FSR = lambda_ / m # free spectral rangeyj"
   ]
  },
  {
   "cell_type": "code",
   "execution_count": 12,
   "metadata": {},
   "outputs": [
    {
     "data": {
      "text/plain": [
       "7.903207733484589"
      ]
     },
     "execution_count": 12,
     "metadata": {},
     "output_type": "execute_result"
    }
   ],
   "source": [
    "# blaze angle\n",
    "\n",
    "theta_blaze = arcsin(m * lambda_ / 2 / d)  * 180/pi  # step angle of groove (deg)\n",
    "theta_blaze"
   ]
  },
  {
   "cell_type": "markdown",
   "metadata": {},
   "source": [
    "## Grisms\n",
    "- **Example 7.5**: Calculate the design of a BK7 prism for a grating of 150 lines per mm and a direct-view wavelength of 600 nm."
   ]
  },
  {
   "cell_type": "code",
   "execution_count": 13,
   "metadata": {},
   "outputs": [],
   "source": [
    "# parameters\n",
    "\n",
    "lambda_ = 600e-9      # wavelength (nm)\n",
    "m = 1 \n",
    "lpmm = 150\n",
    "d = 1e-3 / lpmm\n",
    "alpha = 10 * pi / 180\n",
    "n_g = 1.52"
   ]
  },
  {
   "cell_type": "code",
   "execution_count": 26,
   "metadata": {},
   "outputs": [
    {
     "name": "stdout",
     "output_type": "stream",
     "text": [
      "Prism wedge angle: 9.966766300244691 degs\n",
      "Prism wedge angle: 5.235634733617035 degs\n"
     ]
    }
   ],
   "source": [
    "# calculate prism angle\n",
    "\n",
    "alpha = arcsin(m * lambda_ / d / (n_g - 1))\n",
    "delta = (n_g - 1) * tan(alpha)\n",
    "\n",
    "print('Prism wedge angle: {} degs'.format(alpha*180/pi))\n",
    "print('Prism wedge angle: {} degs'.format(delta*180/pi))"
   ]
  },
  {
   "cell_type": "code",
   "execution_count": null,
   "metadata": {},
   "outputs": [],
   "source": []
  },
  {
   "cell_type": "code",
   "execution_count": null,
   "metadata": {},
   "outputs": [],
   "source": []
  },
  {
   "cell_type": "code",
   "execution_count": null,
   "metadata": {},
   "outputs": [],
   "source": []
  }
 ],
 "metadata": {
  "kernelspec": {
   "display_name": "Python 3",
   "language": "python",
   "name": "python3"
  },
  "language_info": {
   "codemirror_mode": {
    "name": "ipython",
    "version": 3
   },
   "file_extension": ".py",
   "mimetype": "text/x-python",
   "name": "python",
   "nbconvert_exporter": "python",
   "pygments_lexer": "ipython3",
   "version": "3.6.8"
  }
 },
 "nbformat": 4,
 "nbformat_minor": 2
}
