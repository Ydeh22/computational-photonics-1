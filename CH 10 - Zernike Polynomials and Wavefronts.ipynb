{
 "cells": [
  {
   "cell_type": "markdown",
   "metadata": {},
   "source": [
    "# Zernike Polynomials and Wavefronts"
   ]
  },
  {
   "cell_type": "code",
   "execution_count": 53,
   "metadata": {},
   "outputs": [],
   "source": [
    "import numpy as np\n",
    "from numpy import sin, cos, tan, sqrt, pi, e, arctan\n",
    "from math import factorial, atan2\n",
    "\n",
    "import matplotlib.pyplot as plt\n",
    "\n",
    "from IPython.core.interactiveshell import InteractiveShell\n",
    "InteractiveShell.ast_node_interactivity = 'all'"
   ]
  },
  {
   "cell_type": "markdown",
   "metadata": {},
   "source": [
    "## Wavefront Sensing in Adaptive Optics\n",
    "- **Example 10.1**: Use a quad cell (with each quad cell element subdivided into 4 x 4 pixels) to demonstrate the positioning of the focused spot and the resulting slopes. Each pixel shows a 1 or a 0 value to represent its illumination state."
   ]
  },
  {
   "cell_type": "code",
   "execution_count": 18,
   "metadata": {},
   "outputs": [
    {
     "data": {
      "image/png": "[encoded data removed]",
      "text/plain": [
       "<Figure size 432x288 with 1 Axes>"
      ]
     },
     "metadata": {
      "needs_background": "light"
     },
     "output_type": "display_data"
    },
    {
     "data": {
      "image/png": "[encoded data removed]",
      "text/plain": [
       "<Figure size 432x288 with 1 Axes>"
      ]
     },
     "metadata": {
      "needs_background": "light"
     },
     "output_type": "display_data"
    }
   ],
   "source": [
    "# parameters\n",
    "\n",
    "# -- even distribution\n",
    "QC1 = np.array([\n",
    "    [0, 0, 0, 0,   0, 0, 0, 0],\n",
    "    [0, 0, 1, 1,   1, 1, 0, 0],\n",
    "    [0, 1, 1, 1,   1, 1, 1, 0],\n",
    "    [0, 1, 1, 1,   1, 1, 1, 0],\n",
    "    \n",
    "    [0, 1, 1, 1,   1, 1, 1, 0],\n",
    "    [0, 1, 1, 1,   1, 1, 1, 0],\n",
    "    [0, 0, 1, 1,   1, 1, 0, 0],\n",
    "    [0, 0, 0, 0,   0, 0, 0, 0]\n",
    "])\n",
    "\n",
    "# -- shifted left\n",
    "QC2 = np.array([\n",
    "    [0, 0, 0, 0,   0, 0, 0, 0],\n",
    "    [0, 1, 1, 1,   1, 1, 0, 0],\n",
    "    [1, 1, 1, 1,   1, 1, 1, 0],\n",
    "    [1, 1, 1, 1,   1, 1, 1, 0],\n",
    "    \n",
    "    [1, 1, 1, 1,   1, 1, 1, 0],\n",
    "    [1, 1, 1, 1,   1, 1, 1, 0],\n",
    "    [0, 1, 1, 1,   1, 1, 0, 0],\n",
    "    [0, 0, 0, 0,   0, 0, 0, 0]\n",
    "])\n",
    "\n",
    "plt.figure();\n",
    "plt.imshow(QC1);\n",
    "plt.figure();\n",
    "plt.imshow(QC2);"
   ]
  },
  {
   "cell_type": "code",
   "execution_count": 31,
   "metadata": {},
   "outputs": [],
   "source": [
    "# identify quadrants\n",
    "\n",
    "QC = QC2\n",
    "\n",
    "PA = QC[0:4, 0:4]\n",
    "PB = QC[0:4, 4:8]\n",
    "PC = QC[4:8, 4:8]\n",
    "PD = QC[4:8, 0:4]\n",
    "\n",
    "# -- calculate intensities\n",
    "A = sum(sum(PA[:]))\n",
    "B = sum(sum(PB[:]))\n",
    "C = sum(sum(PC[:]))\n",
    "D = sum(sum(PD[:]))"
   ]
  },
  {
   "cell_type": "code",
   "execution_count": 32,
   "metadata": {},
   "outputs": [],
   "source": [
    "# calculate slopes\n",
    "\n",
    "norm = A+B+C+D\n",
    "Sx = ((B+C) - (A+D)) / norm\n",
    "Sy = ((A+B) - (C+D)) / norm"
   ]
  },
  {
   "cell_type": "code",
   "execution_count": 34,
   "metadata": {},
   "outputs": [
    {
     "data": {
      "text/plain": [
       "-0.15789473684210525"
      ]
     },
     "execution_count": 34,
     "metadata": {},
     "output_type": "execute_result"
    },
    {
     "data": {
      "text/plain": [
       "0.0"
      ]
     },
     "execution_count": 34,
     "metadata": {},
     "output_type": "execute_result"
    }
   ],
   "source": [
    "Sx   # negative slope, tilted wavefront\n",
    "Sy"
   ]
  },
  {
   "cell_type": "markdown",
   "metadata": {},
   "source": [
    "## Zernike Polynomials\n",
    "- **Example 10.2**: Use a Zernike polynomial calculator to generate an image. The polynomial is selected by inputting the values of m and n within the code."
   ]
  },
  {
   "cell_type": "code",
   "execution_count": 109,
   "metadata": {},
   "outputs": [],
   "source": [
    "# calculate radial polynomial function\n",
    "\n",
    "def calcRmn(m, n):\n",
    "    \n",
    "    # parameters\n",
    "    OET = n-m           # check if odd or even\n",
    "    mC = int(OET/2)     # number of coefficients calculated\n",
    "    \n",
    "    \n",
    "    # initialize\n",
    "    PC = np.zeros(mC)\n",
    "    PExp = np.zeros(mC)\n",
    "    \n",
    "    \n",
    "    # calculate radial polynomial\n",
    "    if OET % 2 == 0:\n",
    "        k = 0\n",
    "        Rmn = 0\n",
    "        while k < mC:\n",
    "            Rmn = (-1)**k * factorial((n+m)/2 - k) * factorial((n-m)/2 - k)\n",
    "            k += 1\n",
    "            PC[k-1] = Rmn\n",
    "            PExp[k-1] = (n - 2*(k-1))\n",
    "            \n",
    "    \n",
    "    return PC, PExp"
   ]
  },
  {
   "cell_type": "code",
   "execution_count": 117,
   "metadata": {},
   "outputs": [],
   "source": [
    "# zernike polynomial stage\n",
    "\n",
    "def calcZP(RmnC, rhoExp, m, n, pX):\n",
    "    \n",
    "    mD = np.zeros((pX, pX))\n",
    "    \n",
    "    for r in range(1, pX+1):\n",
    "        for c in range(1, pX+1):\n",
    "            x = (2*c - pX - 1) / pX\n",
    "            y = (2*r - pX - 1) / pX\n",
    "            \n",
    "            phi = atan2(y, x)\n",
    "            rho = sqrt(x**2 + y**2)\n",
    "            \n",
    "            RMN = 0\n",
    "            for count in range(0, RmnC.shape[0]):\n",
    "                RMN += RmnC[count] * rho**rhoExp[count]\n",
    "                \n",
    "            if m < 0:\n",
    "                Z = RMN * sin(abs(m) * phi)\n",
    "            else:\n",
    "                Z = RMN * cos(abs(m) * phi)\n",
    "                \n",
    "            if rho <= 1:\n",
    "                mD[r-1, c-1] = Z\n",
    "            else:\n",
    "                mD[r-1, c-1] = 0\n",
    "                \n",
    "    \n",
    "    return mD"
   ]
  },
  {
   "cell_type": "code",
   "execution_count": 133,
   "metadata": {},
   "outputs": [],
   "source": [
    "# set zernike polynomial (Zmn)\n",
    "\n",
    "pixels = 1000\n",
    "m = 7    # note: m < n\n",
    "n = 15\n",
    "\n",
    "RmnC, rhoExp = calcRmn(abs(m), n)\n",
    "myData = np.zeros((pixels, pixels))\n",
    "myData = calcZP(RmnC, rhoExp, m, n, pixels)"
   ]
  },
  {
   "cell_type": "code",
   "execution_count": 134,
   "metadata": {},
   "outputs": [
    {
     "data": {
      "image/png": "[encoded data removed]",
      "text/plain": [
       "<Figure size 432x288 with 1 Axes>"
      ]
     },
     "metadata": {
      "needs_background": "light"
     },
     "output_type": "display_data"
    }
   ],
   "source": [
    "plt.figure();\n",
    "plt.imshow(myData);"
   ]
  },
  {
   "cell_type": "code",
   "execution_count": 102,
   "metadata": {},
   "outputs": [
    {
     "data": {
      "text/plain": [
       "(1, 6)"
      ]
     },
     "execution_count": 102,
     "metadata": {},
     "output_type": "execute_result"
    }
   ],
   "source": [
    "a = np.zeros((1, 6))\n",
    "a.shape"
   ]
  },
  {
   "cell_type": "code",
   "execution_count": 94,
   "metadata": {},
   "outputs": [
    {
     "data": {
      "text/plain": [
       "(1000, 1000)"
      ]
     },
     "execution_count": 94,
     "metadata": {},
     "output_type": "execute_result"
    }
   ],
   "source": [
    "myData.shape"
   ]
  },
  {
   "cell_type": "code",
   "execution_count": null,
   "metadata": {},
   "outputs": [],
   "source": []
  },
  {
   "cell_type": "code",
   "execution_count": null,
   "metadata": {},
   "outputs": [],
   "source": []
  },
  {
   "cell_type": "code",
   "execution_count": null,
   "metadata": {},
   "outputs": [],
   "source": []
  },
  {
   "cell_type": "code",
   "execution_count": null,
   "metadata": {},
   "outputs": [],
   "source": []
  },
  {
   "cell_type": "code",
   "execution_count": null,
   "metadata": {},
   "outputs": [],
   "source": []
  },
  {
   "cell_type": "code",
   "execution_count": null,
   "metadata": {},
   "outputs": [],
   "source": []
  },
  {
   "cell_type": "code",
   "execution_count": null,
   "metadata": {},
   "outputs": [],
   "source": []
  },
  {
   "cell_type": "code",
   "execution_count": null,
   "metadata": {},
   "outputs": [],
   "source": []
  },
  {
   "cell_type": "code",
   "execution_count": null,
   "metadata": {},
   "outputs": [],
   "source": []
  },
  {
   "cell_type": "code",
   "execution_count": null,
   "metadata": {},
   "outputs": [],
   "source": []
  },
  {
   "cell_type": "code",
   "execution_count": null,
   "metadata": {},
   "outputs": [],
   "source": []
  },
  {
   "cell_type": "code",
   "execution_count": null,
   "metadata": {},
   "outputs": [],
   "source": []
  }
 ],
 "metadata": {
  "kernelspec": {
   "display_name": "Python 3",
   "language": "python",
   "name": "python3"
  },
  "language_info": {
   "codemirror_mode": {
    "name": "ipython",
    "version": 3
   },
   "file_extension": ".py",
   "mimetype": "text/x-python",
   "name": "python",
   "nbconvert_exporter": "python",
   "pygments_lexer": "ipython3",
   "version": "3.6.8"
  }
 },
 "nbformat": 4,
 "nbformat_minor": 2
}
